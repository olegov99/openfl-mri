{
 "cells": [
  {
   "cell_type": "code",
   "execution_count": 1,
   "id": "f2b7ab7a",
   "metadata": {},
   "outputs": [],
   "source": [
    "import flwr as fl\n",
    "import pydicom, re\n",
    "import tensorflow as tf\n",
    "import pandas as pd\n",
    "import numpy as np\n",
    "import flwr as fl\n",
    "from os import listdir\n",
    "from os.path import isfile, join, exists"
   ]
  },
  {
   "cell_type": "code",
   "execution_count": 2,
   "id": "1805dc45",
   "metadata": {},
   "outputs": [],
   "source": [
    "class MRIDataGenerator(tf.keras.utils.Sequence):\n",
    "    def __init__(self, df, X_col, y_col, batch_size,\n",
    "                 input_size= (256, 256), depth_size=64,\n",
    "                 shuffle=True):\n",
    " \n",
    "        self.df = df.copy()\n",
    "        self.X_col = X_col\n",
    "        self.y_col = y_col\n",
    "        self.depth_size = depth_size\n",
    "        self.batch_size = batch_size\n",
    "        self.input_size = input_size\n",
    "        self.shuffle = shuffle\n",
    "        self.n = len(self.df)\n",
    " \n",
    "    def on_epoch_end(self):\n",
    "        if self.shuffle:\n",
    "            self.df = self.df.sample(frac=1).reset_index(drop=True)\n",
    " \n",
    "    def __get_input(self, path, target_size):\n",
    "        scan3d = None\n",
    "        onlyfiles = [f for f in listdir(path) if isfile(join(path, f))]\n",
    "        filepatt = 'Image-{}.dcm'\n",
    "        digits = [int(re.search('\\d+',i).group()) for i in listdir(path) if re.match(filepatt.format('\\d+\\\\'),i)]\n",
    "        digits.sort()\n",
    "        onlyfiles = [filepatt.format(dig) for dig in digits]\n",
    "        \n",
    "        center = len(onlyfiles) // 2\n",
    "        left = max(0, center - (self.depth_size // 2))\n",
    "        right = min(len(onlyfiles), center + (self.depth_size // 2))\n",
    "        onlyfiles = onlyfiles[left: right]\n",
    "        if len(onlyfiles) < self.depth_size:\n",
    "            img_shape = pydicom.read_file(f'{path}{onlyfiles[0]}').pixel_array.shape\n",
    "            add_z = self.depth_size - len(onlyfiles)\n",
    "            scan3d = np.zeros((add_z, target_size[0], target_size[1],1))\n",
    "        \n",
    "            \n",
    "        scans = []\n",
    "        for f in onlyfiles:\n",
    "            img = pydicom.read_file(f'{path}{f}')\n",
    "            img = img.pixel_array\n",
    "            img = self._rescale(img)\n",
    "            img = np.expand_dims(img, axis=-1)\n",
    "            img = tf.image.resize(img,(target_size[0], target_size[1])).numpy()\n",
    "            \n",
    "            img = self._normalize(img)\n",
    "            scans.append(img)\n",
    "        \n",
    "        if scan3d is not None:\n",
    "            return np.concatenate([np.array(scans), scan3d]) \n",
    "        else:\n",
    "            return np.array(scans)\n",
    "    def _rescale(self, arr):\n",
    "        arr_min = arr.min()\n",
    "        arr_max = arr.max()\n",
    "        if (arr_max - arr_min) == 0:\n",
    "            return arr\n",
    "        return (arr - arr_min) / (arr_max - arr_min)\n",
    "    def _normalize(self, arr):\n",
    "        img = arr - arr.mean()\n",
    "        # divide by the standard deviation (only if it is different from zero)\n",
    "        if np.std(img) != 0:\n",
    "            img = img / np.std(img)\n",
    "        return img\n",
    "    def __get_data(self, batches):\n",
    "        if self.X_col is None:\n",
    "            PATHS = ['FLAIR_path', 'T1w_path', 'T2w_path', 'T1wCE_path']\n",
    "            X_batch = []\n",
    "            for p in PATHS:\n",
    "                batch_part_path = batches[p]\n",
    "                X_batch.append(np.asarray([self.__get_input(x,  self.input_size) for x in batch_part_path]))\n",
    "            y_batch = batches[self.y_col].values\n",
    "            X_batch = np.concatenate(X_batch, axis=4)\n",
    "            \n",
    "        else:\n",
    "            path_batch = batches[self.X_col]\n",
    "            X_batch = np.asarray([self.__get_input(x,  self.input_size) for x in path_batch])\n",
    "            y_batch = batches[self.y_col].values\n",
    "        return X_batch, y_batch\n",
    "    def __getitem__(self, index):\n",
    "        batches = self.df[index * self.batch_size:(index + 1) * self.batch_size]\n",
    "        X, y = self.__get_data(batches)\n",
    "        return X, y\n",
    "    def __len__(self):\n",
    "        return self.n // self.batch_size "
   ]
  },
  {
   "cell_type": "code",
   "execution_count": 3,
   "id": "06384847",
   "metadata": {},
   "outputs": [],
   "source": [
    "def checkDirectoryForExistence(dirName):\n",
    "    return exists(f'./server_val_data/{str(dirName).zfill(5)}')\n",
    "\n",
    "def getAllExistingDirs():\n",
    "    return f'./server_val_data/' + test_df[test_df['BraTS21ID'].apply(checkDirectoryForExistence)]['BraTS21ID'].astype(str).str.zfill(5)\n",
    "\n",
    "test_df = pd.read_csv(f\"./train_labels.csv\")\n",
    "test_df['FLAIR_path'] = getAllExistingDirs() + '/FLAIR/'\n",
    "test_df['T1w_path'] = getAllExistingDirs() + '/T1w/' \n",
    "test_df['T2w_path'] = getAllExistingDirs() + '/T2w/' \n",
    "test_df['T1wCE_path'] = getAllExistingDirs() + '/t1wCE/'\n",
    "test_df = test_df.dropna(how='any')"
   ]
  },
  {
   "cell_type": "code",
   "execution_count": 4,
   "id": "3291751a",
   "metadata": {},
   "outputs": [],
   "source": [
    "depth = 64\n",
    "resolution = (192, 192)\n",
    "batches = 4\n",
    "\n",
    "val_loss = []\n",
    "val_acc = []\n",
    "\n",
    "def get_eval_fn(model):\n",
    "    \"\"\"Return an evaluation function for server-side evaluation.\"\"\"\n",
    "\n",
    "    # The `evaluate` function will be called after every round\n",
    "    def evaluate(weights: fl.common.Weights):\n",
    "        model.set_weights(weights)  # Update model with the latest parameters\n",
    "        loss, accuracy = model.evaluate(MRIDataGenerator(test_df, 'FLAIR_path', 'MGMT_value', batches, resolution, depth, True))\n",
    "        val_loss.append(loss)\n",
    "        val_acc.append(accuracy)\n",
    "        return loss, {\"accuracy\": accuracy}\n",
    "\n",
    "    return evaluate"
   ]
  },
  {
   "cell_type": "code",
   "execution_count": 5,
   "id": "d6178041",
   "metadata": {},
   "outputs": [],
   "source": [
    "from tensorflow.keras import Sequential\n",
    "from tensorflow.keras.layers import Conv3D, MaxPooling3D, Flatten, Dense\n",
    "\n",
    "model = Sequential()\n",
    "model.add(Conv3D(32, kernel_size=(3, 3, 3), activation='relu', kernel_initializer='he_uniform', input_shape=(64,192, 192, 1)))\n",
    "model.add(MaxPooling3D(pool_size=(2, 2, 2)))\n",
    "model.add(Conv3D(64, kernel_size=(3, 3, 3), activation='relu', kernel_initializer='he_uniform'))\n",
    "model.add(MaxPooling3D(pool_size=(2, 2, 2)))\n",
    "model.add(Conv3D(128, kernel_size=(3, 3, 3), activation='relu', kernel_initializer='he_uniform'))\n",
    "model.add(MaxPooling3D(pool_size=(2, 2, 2)))\n",
    "model.add(Conv3D(256, kernel_size=(3, 3, 3), activation='relu', kernel_initializer='he_uniform'))\n",
    "model.add(MaxPooling3D(pool_size=(2, 2, 2)))\n",
    "model.add(Flatten())\n",
    "model.add(Dense(128, activation='relu', kernel_initializer='he_uniform'))\n",
    "model.add(Dense(64, activation='relu', kernel_initializer='he_uniform'))\n",
    "model.add(Dense(1, activation='sigmoid'))\n",
    "\n",
    "model.compile(\n",
    "        optimizer='adam', \n",
    "        loss='binary_crossentropy',\n",
    "        metrics=[tf.keras.metrics.BinaryAccuracy()]\n",
    "    )"
   ]
  },
  {
   "cell_type": "code",
   "execution_count": 6,
   "id": "a4997ee2",
   "metadata": {},
   "outputs": [],
   "source": [
    "strategy = fl.server.strategy.FedAvg(\n",
    "    # ... other FedAvg agruments\n",
    "    fraction_eval=1,\n",
    "    min_eval_clients=3,\n",
    "    min_available_clients=3,\n",
    "    fraction_fit=1,\n",
    "    min_fit_clients=3,\n",
    "    eval_fn=get_eval_fn(model)\n",
    ")"
   ]
  },
  {
   "cell_type": "code",
   "execution_count": 7,
   "id": "bba436c1",
   "metadata": {},
   "outputs": [
    {
     "name": "stderr",
     "output_type": "stream",
     "text": [
      "INFO flower 2022-05-27 00:59:31,719 | app.py:134 | Flower server running (10 rounds), SSL is disabled\n",
      "INFO flower 2022-05-27 00:59:31,721 | server.py:84 | Initializing global parameters\n",
      "INFO flower 2022-05-27 00:59:31,722 | server.py:256 | Requesting initial parameters from one random client\n",
      "INFO flower 2022-05-27 00:59:38,818 | server.py:259 | Received initial parameters from one random client\n",
      "INFO flower 2022-05-27 00:59:38,819 | server.py:86 | Evaluating initial parameters\n"
     ]
    },
    {
     "name": "stdout",
     "output_type": "stream",
     "text": [
      "20/20 [==============================] - 94s 5s/step - loss: 1.3706 - binary_accuracy: 0.4500\n"
     ]
    },
    {
     "name": "stderr",
     "output_type": "stream",
     "text": [
      "INFO flower 2022-05-27 01:01:20,933 | server.py:89 | initial parameters (loss, other metrics): 1.3706250190734863, {'accuracy': 0.44999998807907104}\n",
      "INFO flower 2022-05-27 01:01:20,933 | server.py:99 | FL starting\n",
      "DEBUG flower 2022-05-27 01:01:20,934 | server.py:203 | fit_round: strategy sampled 3 clients (out of 3)\n",
      "DEBUG flower 2022-05-27 01:15:23,632 | server.py:216 | fit_round received 3 results and 0 failures\n",
      "WARNING flower 2022-05-27 01:15:23,880 | fedavg.py:237 | No fit_metrics_aggregation_fn provided\n"
     ]
    },
    {
     "name": "stdout",
     "output_type": "stream",
     "text": [
      "20/20 [==============================] - 94s 5s/step - loss: 0.6895 - binary_accuracy: 0.4875\n"
     ]
    },
    {
     "name": "stderr",
     "output_type": "stream",
     "text": [
      "INFO flower 2022-05-27 01:17:05,027 | server.py:114 | fit progress: (1, 0.6895262002944946, {'accuracy': 0.48750001192092896}, 943.9813736)\n",
      "DEBUG flower 2022-05-27 01:17:05,027 | server.py:157 | evaluate_round: strategy sampled 3 clients (out of 3)\n",
      "DEBUG flower 2022-05-27 01:19:02,076 | server.py:170 | evaluate_round received 3 results and 0 failures\n",
      "WARNING flower 2022-05-27 01:19:02,077 | fedavg.py:268 | No evaluate_metrics_aggregation_fn provided\n",
      "DEBUG flower 2022-05-27 01:19:02,078 | server.py:203 | fit_round: strategy sampled 3 clients (out of 3)\n",
      "DEBUG flower 2022-05-27 01:32:56,783 | server.py:216 | fit_round received 3 results and 0 failures\n"
     ]
    },
    {
     "name": "stdout",
     "output_type": "stream",
     "text": [
      "20/20 [==============================] - 94s 5s/step - loss: 0.6939 - binary_accuracy: 0.4625\n"
     ]
    },
    {
     "name": "stderr",
     "output_type": "stream",
     "text": [
      "INFO flower 2022-05-27 01:34:38,248 | server.py:114 | fit progress: (2, 0.693936824798584, {'accuracy': 0.4625000059604645}, 1997.1344268999999)\n",
      "DEBUG flower 2022-05-27 01:34:38,248 | server.py:157 | evaluate_round: strategy sampled 3 clients (out of 3)\n",
      "DEBUG flower 2022-05-27 01:36:35,314 | server.py:170 | evaluate_round received 3 results and 0 failures\n",
      "DEBUG flower 2022-05-27 01:36:35,315 | server.py:203 | fit_round: strategy sampled 3 clients (out of 3)\n",
      "DEBUG flower 2022-05-27 01:50:31,279 | server.py:216 | fit_round received 3 results and 0 failures\n"
     ]
    },
    {
     "name": "stdout",
     "output_type": "stream",
     "text": [
      "20/20 [==============================] - 94s 5s/step - loss: 0.6944 - binary_accuracy: 0.5000\n"
     ]
    },
    {
     "name": "stderr",
     "output_type": "stream",
     "text": [
      "INFO flower 2022-05-27 01:52:12,564 | server.py:114 | fit progress: (3, 0.6943678259849548, {'accuracy': 0.5}, 3051.3132335)\n",
      "DEBUG flower 2022-05-27 01:52:12,572 | server.py:157 | evaluate_round: strategy sampled 3 clients (out of 3)\n",
      "DEBUG flower 2022-05-27 01:54:09,493 | server.py:170 | evaluate_round received 3 results and 0 failures\n",
      "DEBUG flower 2022-05-27 01:54:09,494 | server.py:203 | fit_round: strategy sampled 3 clients (out of 3)\n",
      "DEBUG flower 2022-05-27 02:08:07,989 | server.py:216 | fit_round received 3 results and 0 failures\n"
     ]
    },
    {
     "name": "stdout",
     "output_type": "stream",
     "text": [
      "20/20 [==============================] - 94s 5s/step - loss: 0.7416 - binary_accuracy: 0.4500\n"
     ]
    },
    {
     "name": "stderr",
     "output_type": "stream",
     "text": [
      "INFO flower 2022-05-27 02:09:49,526 | server.py:114 | fit progress: (4, 0.7416276931762695, {'accuracy': 0.44999998807907104}, 4108.223994700001)\n",
      "DEBUG flower 2022-05-27 02:09:49,528 | server.py:157 | evaluate_round: strategy sampled 3 clients (out of 3)\n",
      "DEBUG flower 2022-05-27 02:11:46,575 | server.py:170 | evaluate_round received 3 results and 0 failures\n",
      "DEBUG flower 2022-05-27 02:11:46,575 | server.py:203 | fit_round: strategy sampled 3 clients (out of 3)\n",
      "DEBUG flower 2022-05-27 02:25:43,474 | server.py:216 | fit_round received 3 results and 0 failures\n"
     ]
    },
    {
     "name": "stdout",
     "output_type": "stream",
     "text": [
      "20/20 [==============================] - 94s 5s/step - loss: 0.6947 - binary_accuracy: 0.4750\n"
     ]
    },
    {
     "name": "stderr",
     "output_type": "stream",
     "text": [
      "INFO flower 2022-05-27 02:27:24,899 | server.py:114 | fit progress: (5, 0.6947404146194458, {'accuracy': 0.4749999940395355}, 5163.4639683000005)\n",
      "DEBUG flower 2022-05-27 02:27:24,914 | server.py:157 | evaluate_round: strategy sampled 3 clients (out of 3)\n",
      "DEBUG flower 2022-05-27 02:29:24,155 | server.py:170 | evaluate_round received 3 results and 0 failures\n",
      "DEBUG flower 2022-05-27 02:29:24,156 | server.py:203 | fit_round: strategy sampled 3 clients (out of 3)\n",
      "DEBUG flower 2022-05-27 02:43:22,005 | server.py:216 | fit_round received 3 results and 0 failures\n"
     ]
    },
    {
     "name": "stdout",
     "output_type": "stream",
     "text": [
      "20/20 [==============================] - 94s 5s/step - loss: 0.7117 - binary_accuracy: 0.5000\n"
     ]
    },
    {
     "name": "stderr",
     "output_type": "stream",
     "text": [
      "INFO flower 2022-05-27 02:45:03,242 | server.py:114 | fit progress: (6, 0.7117251753807068, {'accuracy': 0.5}, 6221.691986100001)\n",
      "DEBUG flower 2022-05-27 02:45:03,242 | server.py:157 | evaluate_round: strategy sampled 3 clients (out of 3)\n",
      "DEBUG flower 2022-05-27 02:47:00,274 | server.py:170 | evaluate_round received 3 results and 0 failures\n",
      "DEBUG flower 2022-05-27 02:47:00,275 | server.py:203 | fit_round: strategy sampled 3 clients (out of 3)\n",
      "DEBUG flower 2022-05-27 03:00:56,470 | server.py:216 | fit_round received 3 results and 0 failures\n"
     ]
    },
    {
     "name": "stdout",
     "output_type": "stream",
     "text": [
      "20/20 [==============================] - 94s 5s/step - loss: 0.7268 - binary_accuracy: 0.5125\n"
     ]
    },
    {
     "name": "stderr",
     "output_type": "stream",
     "text": [
      "INFO flower 2022-05-27 03:02:37,778 | server.py:114 | fit progress: (7, 0.7267957925796509, {'accuracy': 0.512499988079071}, 7276.1562112)\n",
      "DEBUG flower 2022-05-27 03:02:37,793 | server.py:157 | evaluate_round: strategy sampled 3 clients (out of 3)\n",
      "DEBUG flower 2022-05-27 03:04:34,917 | server.py:170 | evaluate_round received 3 results and 0 failures\n",
      "DEBUG flower 2022-05-27 03:04:34,917 | server.py:203 | fit_round: strategy sampled 3 clients (out of 3)\n",
      "DEBUG flower 2022-05-27 03:18:30,934 | server.py:216 | fit_round received 3 results and 0 failures\n"
     ]
    },
    {
     "name": "stdout",
     "output_type": "stream",
     "text": [
      "20/20 [==============================] - 94s 5s/step - loss: 0.7363 - binary_accuracy: 0.4375\n"
     ]
    },
    {
     "name": "stderr",
     "output_type": "stream",
     "text": [
      "INFO flower 2022-05-27 03:20:12,236 | server.py:114 | fit progress: (8, 0.7363268136978149, {'accuracy': 0.4375}, 8330.4712394)\n",
      "DEBUG flower 2022-05-27 03:20:12,236 | server.py:157 | evaluate_round: strategy sampled 3 clients (out of 3)\n",
      "DEBUG flower 2022-05-27 03:22:09,710 | server.py:170 | evaluate_round received 3 results and 0 failures\n",
      "DEBUG flower 2022-05-27 03:22:09,710 | server.py:203 | fit_round: strategy sampled 3 clients (out of 3)\n",
      "DEBUG flower 2022-05-27 03:36:09,169 | server.py:216 | fit_round received 3 results and 0 failures\n"
     ]
    },
    {
     "name": "stdout",
     "output_type": "stream",
     "text": [
      "20/20 [==============================] - 94s 5s/step - loss: 0.7098 - binary_accuracy: 0.4875\n"
     ]
    },
    {
     "name": "stderr",
     "output_type": "stream",
     "text": [
      "INFO flower 2022-05-27 03:37:50,546 | server.py:114 | fit progress: (9, 0.7098262310028076, {'accuracy': 0.48750001192092896}, 9388.722397099998)\n",
      "DEBUG flower 2022-05-27 03:37:50,546 | server.py:157 | evaluate_round: strategy sampled 3 clients (out of 3)\n",
      "DEBUG flower 2022-05-27 03:39:47,347 | server.py:170 | evaluate_round received 3 results and 0 failures\n",
      "DEBUG flower 2022-05-27 03:39:47,347 | server.py:203 | fit_round: strategy sampled 3 clients (out of 3)\n",
      "DEBUG flower 2022-05-27 03:53:33,706 | server.py:216 | fit_round received 3 results and 0 failures\n"
     ]
    },
    {
     "name": "stdout",
     "output_type": "stream",
     "text": [
      "20/20 [==============================] - 94s 5s/step - loss: 0.7189 - binary_accuracy: 0.4875\n"
     ]
    },
    {
     "name": "stderr",
     "output_type": "stream",
     "text": [
      "INFO flower 2022-05-27 03:55:15,410 | server.py:114 | fit progress: (10, 0.7188926339149475, {'accuracy': 0.48750001192092896}, 10433.4475449)\n",
      "DEBUG flower 2022-05-27 03:55:15,410 | server.py:157 | evaluate_round: strategy sampled 3 clients (out of 3)\n",
      "DEBUG flower 2022-05-27 03:57:12,484 | server.py:170 | evaluate_round received 3 results and 0 failures\n",
      "INFO flower 2022-05-27 03:57:12,484 | server.py:138 | FL finished in 10550.5140273\n",
      "INFO flower 2022-05-27 03:57:12,491 | app.py:178 | app_fit: losses_distributed [(1, 0.7197377934600367), (2, 0.6938055398488285), (3, 0.6910632180445122), (4, 0.6858191514256025), (5, 0.6894267062948207), (6, 0.7068088367731884), (7, 0.7507071380663399), (8, 0.7087630533208751), (9, 0.7102926981569541), (10, 0.7320373576096814)]\n",
      "INFO flower 2022-05-27 03:57:12,491 | app.py:179 | app_fit: metrics_distributed {}\n",
      "INFO flower 2022-05-27 03:57:12,491 | app.py:180 | app_fit: losses_centralized [(0, 1.3706250190734863), (1, 0.6895262002944946), (2, 0.693936824798584), (3, 0.6943678259849548), (4, 0.7416276931762695), (5, 0.6947404146194458), (6, 0.7117251753807068), (7, 0.7267957925796509), (8, 0.7363268136978149), (9, 0.7098262310028076), (10, 0.7188926339149475)]\n",
      "INFO flower 2022-05-27 03:57:12,491 | app.py:181 | app_fit: metrics_centralized {'accuracy': [(0, 0.44999998807907104), (1, 0.48750001192092896), (2, 0.4625000059604645), (3, 0.5), (4, 0.44999998807907104), (5, 0.4749999940395355), (6, 0.5), (7, 0.512499988079071), (8, 0.4375), (9, 0.48750001192092896), (10, 0.48750001192092896)]}\n"
     ]
    },
    {
     "data": {
      "text/plain": [
       "History (loss, distributed):\n",
       "\tround 1: 0.7197377934600367\n",
       "\tround 2: 0.6938055398488285\n",
       "\tround 3: 0.6910632180445122\n",
       "\tround 4: 0.6858191514256025\n",
       "\tround 5: 0.6894267062948207\n",
       "\tround 6: 0.7068088367731884\n",
       "\tround 7: 0.7507071380663399\n",
       "\tround 8: 0.7087630533208751\n",
       "\tround 9: 0.7102926981569541\n",
       "\tround 10: 0.7320373576096814\n",
       "History (loss, centralized):\n",
       "\tround 0: 1.3706250190734863\n",
       "\tround 1: 0.6895262002944946\n",
       "\tround 2: 0.693936824798584\n",
       "\tround 3: 0.6943678259849548\n",
       "\tround 4: 0.7416276931762695\n",
       "\tround 5: 0.6947404146194458\n",
       "\tround 6: 0.7117251753807068\n",
       "\tround 7: 0.7267957925796509\n",
       "\tround 8: 0.7363268136978149\n",
       "\tround 9: 0.7098262310028076\n",
       "\tround 10: 0.7188926339149475\n",
       "History (metrics, centralized):\n",
       "{'accuracy': [(0, 0.44999998807907104), (1, 0.48750001192092896), (2, 0.4625000059604645), (3, 0.5), (4, 0.44999998807907104), (5, 0.4749999940395355), (6, 0.5), (7, 0.512499988079071), (8, 0.4375), (9, 0.48750001192092896), (10, 0.48750001192092896)]}"
      ]
     },
     "execution_count": 7,
     "metadata": {},
     "output_type": "execute_result"
    }
   ],
   "source": [
    "fl.server.start_server(config={\"num_rounds\": 10}, strategy=strategy)"
   ]
  },
  {
   "cell_type": "code",
   "execution_count": 1,
   "id": "258f0047",
   "metadata": {},
   "outputs": [],
   "source": [
    "loss_distributed = [0.7197377934600367, 0.6938055398488285, 0.6910632180445122, 0.6858191514256025, 0.6894267062948207, 0.7068088367731884, 0.7507071380663399, 0.7087630533208751, 0.7102926981569541, 0.7320373576096814]\n",
    "loss_centralized = [1.3706250190734863, 0.6895262002944946, 0.693936824798584, 0.6943678259849548, 0.7416276931762695, 0.6947404146194458, 0.7117251753807068, 0.7267957925796509, 0.7363268136978149, 0.7098262310028076, 0.7188926339149475]"
   ]
  },
  {
   "cell_type": "code",
   "execution_count": 5,
   "id": "9bd9f064",
   "metadata": {},
   "outputs": [
    {
     "data": {
      "image/png": "[encoded data removed]",
      "text/plain": [
       "<Figure size 432x288 with 1 Axes>"
      ]
     },
     "metadata": {
      "needs_background": "light"
     },
     "output_type": "display_data"
    }
   ],
   "source": [
    "import matplotlib.pyplot as plt\n",
    "plt.plot(loss_centralized)\n",
    "plt.plot(loss_distributed)\n",
    "plt.title('Loss')\n",
    "plt.ylabel('Loss')\n",
    "plt.xlabel('rounds')\n",
    "plt.legend(['centralized_loss', 'distributed_loss'], loc='upper left')\n",
    "plt.show()"
   ]
  },
  {
   "cell_type": "code",
   "execution_count": null,
   "id": "bc82ad29",
   "metadata": {},
   "outputs": [],
   "source": []
  }
 ],
 "metadata": {
  "interpreter": {
   "hash": "77df1398f74ffb58d8ff0594f502c8c260523194fbae49936cfdcd47e90e9c31"
  },
  "kernelspec": {
   "display_name": "Python 3 (ipykernel)",
   "language": "python",
   "name": "python3"
  },
  "language_info": {
   "codemirror_mode": {
    "name": "ipython",
    "version": 3
   },
   "file_extension": ".py",
   "mimetype": "text/x-python",
   "name": "python",
   "nbconvert_exporter": "python",
   "pygments_lexer": "ipython3",
   "version": "3.8.12"
  }
 },
 "nbformat": 4,
 "nbformat_minor": 5
}
