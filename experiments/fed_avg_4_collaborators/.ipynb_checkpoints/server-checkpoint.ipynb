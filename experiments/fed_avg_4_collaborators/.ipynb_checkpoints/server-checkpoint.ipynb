{
 "cells": [
  {
   "cell_type": "code",
   "execution_count": 1,
   "id": "f2b7ab7a",
   "metadata": {},
   "outputs": [],
   "source": [
    "import flwr as fl\n",
    "import pydicom, re\n",
    "import tensorflow as tf\n",
    "import pandas as pd\n",
    "import numpy as np\n",
    "import flwr as fl\n",
    "from os import listdir\n",
    "from os.path import isfile, join, exists"
   ]
  },
  {
   "cell_type": "code",
   "execution_count": 2,
   "id": "1805dc45",
   "metadata": {},
   "outputs": [],
   "source": [
    "class MRIDataGenerator(tf.keras.utils.Sequence):\n",
    "    def __init__(self, df, X_col, y_col, batch_size,\n",
    "                 input_size= (256, 256), depth_size=64,\n",
    "                 shuffle=True):\n",
    " \n",
    "        self.df = df.copy()\n",
    "        self.X_col = X_col\n",
    "        self.y_col = y_col\n",
    "        self.depth_size = depth_size\n",
    "        self.batch_size = batch_size\n",
    "        self.input_size = input_size\n",
    "        self.shuffle = shuffle\n",
    "        self.n = len(self.df)\n",
    " \n",
    "    def on_epoch_end(self):\n",
    "        if self.shuffle:\n",
    "            self.df = self.df.sample(frac=1).reset_index(drop=True)\n",
    " \n",
    "    def __get_input(self, path, target_size):\n",
    "        scan3d = None\n",
    "        onlyfiles = [f for f in listdir(path) if isfile(join(path, f))]\n",
    "        filepatt = 'Image-{}.dcm'\n",
    "        digits = [int(re.search('\\d+',i).group()) for i in listdir(path) if re.match(filepatt.format('\\d+\\\\'),i)]\n",
    "        digits.sort()\n",
    "        onlyfiles = [filepatt.format(dig) for dig in digits]\n",
    "        \n",
    "        center = len(onlyfiles) // 2\n",
    "        left = max(0, center - (self.depth_size // 2))\n",
    "        right = min(len(onlyfiles), center + (self.depth_size // 2))\n",
    "        onlyfiles = onlyfiles[left: right]\n",
    "        if len(onlyfiles) < self.depth_size:\n",
    "            img_shape = pydicom.read_file(f'{path}{onlyfiles[0]}').pixel_array.shape\n",
    "            add_z = self.depth_size - len(onlyfiles)\n",
    "            scan3d = np.zeros((add_z, target_size[0], target_size[1],1))\n",
    "        \n",
    "            \n",
    "        scans = []\n",
    "        for f in onlyfiles:\n",
    "            img = pydicom.read_file(f'{path}{f}')\n",
    "            img = img.pixel_array\n",
    "            img = self._rescale(img)\n",
    "            img = np.expand_dims(img, axis=-1)\n",
    "            img = tf.image.resize(img,(target_size[0], target_size[1])).numpy()\n",
    "            \n",
    "            img = self._normalize(img)\n",
    "            scans.append(img)\n",
    "        \n",
    "        if scan3d is not None:\n",
    "            return np.concatenate([np.array(scans), scan3d]) \n",
    "        else:\n",
    "            return np.array(scans)\n",
    "    def _rescale(self, arr):\n",
    "        arr_min = arr.min()\n",
    "        arr_max = arr.max()\n",
    "        if (arr_max - arr_min) == 0:\n",
    "            return arr\n",
    "        return (arr - arr_min) / (arr_max - arr_min)\n",
    "    def _normalize(self, arr):\n",
    "        img = arr - arr.mean()\n",
    "        # divide by the standard deviation (only if it is different from zero)\n",
    "        if np.std(img) != 0:\n",
    "            img = img / np.std(img)\n",
    "        return img\n",
    "    def __get_data(self, batches):\n",
    "        if self.X_col is None:\n",
    "            PATHS = ['FLAIR_path', 'T1w_path', 'T2w_path', 'T1wCE_path']\n",
    "            X_batch = []\n",
    "            for p in PATHS:\n",
    "                batch_part_path = batches[p]\n",
    "                X_batch.append(np.asarray([self.__get_input(x,  self.input_size) for x in batch_part_path]))\n",
    "            y_batch = batches[self.y_col].values\n",
    "            X_batch = np.concatenate(X_batch, axis=4)\n",
    "            \n",
    "        else:\n",
    "            path_batch = batches[self.X_col]\n",
    "            X_batch = np.asarray([self.__get_input(x,  self.input_size) for x in path_batch])\n",
    "            y_batch = batches[self.y_col].values\n",
    "        return X_batch, y_batch\n",
    "    def __getitem__(self, index):\n",
    "        batches = self.df[index * self.batch_size:(index + 1) * self.batch_size]\n",
    "        X, y = self.__get_data(batches)\n",
    "        return X, y\n",
    "    def __len__(self):\n",
    "        return self.n // self.batch_size "
   ]
  },
  {
   "cell_type": "code",
   "execution_count": 3,
   "id": "06384847",
   "metadata": {},
   "outputs": [],
   "source": [
    "def checkDirectoryForExistence(dirName):\n",
    "    return exists(f'./server_val_data/{str(dirName).zfill(5)}')\n",
    "\n",
    "def getAllExistingDirs():\n",
    "    return f'./server_val_data/' + test_df[test_df['BraTS21ID'].apply(checkDirectoryForExistence)]['BraTS21ID'].astype(str).str.zfill(5)\n",
    "\n",
    "test_df = pd.read_csv(f\"./train_labels.csv\")\n",
    "test_df['FLAIR_path'] = getAllExistingDirs() + '/FLAIR/'\n",
    "test_df['T1w_path'] = getAllExistingDirs() + '/T1w/' \n",
    "test_df['T2w_path'] = getAllExistingDirs() + '/T2w/' \n",
    "test_df['T1wCE_path'] = getAllExistingDirs() + '/t1wCE/'\n",
    "test_df = test_df.dropna(how='any')"
   ]
  },
  {
   "cell_type": "code",
   "execution_count": 4,
   "id": "3291751a",
   "metadata": {},
   "outputs": [],
   "source": [
    "depth = 64\n",
    "resolution = (192, 192)\n",
    "batches = 4\n",
    "\n",
    "val_loss = []\n",
    "val_acc = []\n",
    "\n",
    "def get_eval_fn(model):\n",
    "    \"\"\"Return an evaluation function for server-side evaluation.\"\"\"\n",
    "\n",
    "    # The `evaluate` function will be called after every round\n",
    "    def evaluate(weights: fl.common.Weights):\n",
    "        model.set_weights(weights)  # Update model with the latest parameters\n",
    "        loss, accuracy = model.evaluate(MRIDataGenerator(test_df, 'FLAIR_path', 'MGMT_value', batches, resolution, depth, True))\n",
    "        val_loss.append(loss)\n",
    "        val_acc.append(accuracy)\n",
    "        return loss, {\"accuracy\": accuracy}\n",
    "\n",
    "    return evaluate"
   ]
  },
  {
   "cell_type": "code",
   "execution_count": 5,
   "id": "d6178041",
   "metadata": {},
   "outputs": [],
   "source": [
    "from tensorflow.keras import Sequential\n",
    "from tensorflow.keras.layers import Conv3D, MaxPooling3D, Flatten, Dense\n",
    "\n",
    "model = Sequential()\n",
    "model.add(Conv3D(32, kernel_size=(3, 3, 3), activation='relu', kernel_initializer='he_uniform', input_shape=(64,192, 192, 1)))\n",
    "model.add(MaxPooling3D(pool_size=(2, 2, 2)))\n",
    "model.add(Conv3D(64, kernel_size=(3, 3, 3), activation='relu', kernel_initializer='he_uniform'))\n",
    "model.add(MaxPooling3D(pool_size=(2, 2, 2)))\n",
    "model.add(Conv3D(128, kernel_size=(3, 3, 3), activation='relu', kernel_initializer='he_uniform'))\n",
    "model.add(MaxPooling3D(pool_size=(2, 2, 2)))\n",
    "model.add(Conv3D(256, kernel_size=(3, 3, 3), activation='relu', kernel_initializer='he_uniform'))\n",
    "model.add(MaxPooling3D(pool_size=(2, 2, 2)))\n",
    "model.add(Flatten())\n",
    "model.add(Dense(128, activation='relu', kernel_initializer='he_uniform'))\n",
    "model.add(Dense(64, activation='relu', kernel_initializer='he_uniform'))\n",
    "model.add(Dense(1, activation='sigmoid'))\n",
    "\n",
    "model.compile(\n",
    "        optimizer='adam', \n",
    "        loss='binary_crossentropy',\n",
    "        metrics=[tf.keras.metrics.BinaryAccuracy()]\n",
    "    )"
   ]
  },
  {
   "cell_type": "code",
   "execution_count": 6,
   "id": "a4997ee2",
   "metadata": {},
   "outputs": [],
   "source": [
    "strategy = fl.server.strategy.FedAvg(\n",
    "    # ... other FedAvg agruments\n",
    "    fraction_eval=1,\n",
    "    min_eval_clients=4,\n",
    "    min_available_clients=4,\n",
    "    fraction_fit=1,\n",
    "    min_fit_clients=4,\n",
    "    eval_fn=get_eval_fn(model)\n",
    ")"
   ]
  },
  {
   "cell_type": "code",
   "execution_count": 7,
   "id": "bba436c1",
   "metadata": {},
   "outputs": [
    {
     "name": "stderr",
     "output_type": "stream",
     "text": [
      "INFO flower 2022-05-26 21:24:28,524 | app.py:134 | Flower server running (10 rounds), SSL is disabled\n",
      "INFO flower 2022-05-26 21:24:28,526 | server.py:84 | Initializing global parameters\n",
      "INFO flower 2022-05-26 21:24:28,526 | server.py:256 | Requesting initial parameters from one random client\n",
      "INFO flower 2022-05-26 21:24:36,079 | server.py:259 | Received initial parameters from one random client\n",
      "INFO flower 2022-05-26 21:24:36,079 | server.py:86 | Evaluating initial parameters\n"
     ]
    },
    {
     "name": "stdout",
     "output_type": "stream",
     "text": [
      "20/20 [==============================] - 95s 5s/step - loss: 1.9726 - binary_accuracy: 0.5250\n"
     ]
    },
    {
     "name": "stderr",
     "output_type": "stream",
     "text": [
      "INFO flower 2022-05-26 21:26:19,183 | server.py:89 | initial parameters (loss, other metrics): 1.9725606441497803, {'accuracy': 0.5249999761581421}\n",
      "INFO flower 2022-05-26 21:26:19,184 | server.py:99 | FL starting\n",
      "DEBUG flower 2022-05-26 21:26:19,184 | server.py:203 | fit_round: strategy sampled 4 clients (out of 4)\n",
      "DEBUG flower 2022-05-26 21:42:16,486 | server.py:216 | fit_round received 4 results and 0 failures\n",
      "WARNING flower 2022-05-26 21:42:16,809 | fedavg.py:237 | No fit_metrics_aggregation_fn provided\n"
     ]
    },
    {
     "name": "stdout",
     "output_type": "stream",
     "text": [
      "20/20 [==============================] - 94s 5s/step - loss: 0.6918 - binary_accuracy: 0.5250\n"
     ]
    },
    {
     "name": "stderr",
     "output_type": "stream",
     "text": [
      "INFO flower 2022-05-26 21:43:58,644 | server.py:114 | fit progress: (1, 0.6917809247970581, {'accuracy': 0.5249999761581421}, 1059.3053749)\n",
      "DEBUG flower 2022-05-26 21:43:58,647 | server.py:157 | evaluate_round: strategy sampled 4 clients (out of 4)\n",
      "DEBUG flower 2022-05-26 21:46:01,479 | server.py:170 | evaluate_round received 4 results and 0 failures\n",
      "WARNING flower 2022-05-26 21:46:01,480 | fedavg.py:268 | No evaluate_metrics_aggregation_fn provided\n",
      "DEBUG flower 2022-05-26 21:46:01,481 | server.py:203 | fit_round: strategy sampled 4 clients (out of 4)\n",
      "DEBUG flower 2022-05-26 22:01:54,414 | server.py:216 | fit_round received 4 results and 0 failures\n"
     ]
    },
    {
     "name": "stdout",
     "output_type": "stream",
     "text": [
      "20/20 [==============================] - 94s 5s/step - loss: 0.6941 - binary_accuracy: 0.4625\n"
     ]
    },
    {
     "name": "stderr",
     "output_type": "stream",
     "text": [
      "INFO flower 2022-05-26 22:03:36,458 | server.py:114 | fit progress: (2, 0.6940613985061646, {'accuracy': 0.4625000059604645}, 2236.9882475000004)\n",
      "DEBUG flower 2022-05-26 22:03:36,474 | server.py:157 | evaluate_round: strategy sampled 4 clients (out of 4)\n",
      "DEBUG flower 2022-05-26 22:05:38,492 | server.py:170 | evaluate_round received 4 results and 0 failures\n",
      "DEBUG flower 2022-05-26 22:05:38,493 | server.py:203 | fit_round: strategy sampled 4 clients (out of 4)\n",
      "DEBUG flower 2022-05-26 22:21:34,672 | server.py:216 | fit_round received 4 results and 0 failures\n"
     ]
    },
    {
     "name": "stdout",
     "output_type": "stream",
     "text": [
      "20/20 [==============================] - 94s 5s/step - loss: 0.7028 - binary_accuracy: 0.4875\n"
     ]
    },
    {
     "name": "stderr",
     "output_type": "stream",
     "text": [
      "INFO flower 2022-05-26 22:23:16,626 | server.py:114 | fit progress: (3, 0.702825665473938, {'accuracy': 0.48750001192092896}, 3417.0414081999998)\n",
      "DEBUG flower 2022-05-26 22:23:16,627 | server.py:157 | evaluate_round: strategy sampled 4 clients (out of 4)\n",
      "DEBUG flower 2022-05-26 22:25:19,403 | server.py:170 | evaluate_round received 4 results and 0 failures\n",
      "DEBUG flower 2022-05-26 22:25:19,403 | server.py:203 | fit_round: strategy sampled 4 clients (out of 4)\n",
      "DEBUG flower 2022-05-26 22:41:08,843 | server.py:216 | fit_round received 4 results and 0 failures\n"
     ]
    },
    {
     "name": "stdout",
     "output_type": "stream",
     "text": [
      "20/20 [==============================] - 94s 5s/step - loss: 0.6937 - binary_accuracy: 0.5000\n"
     ]
    },
    {
     "name": "stderr",
     "output_type": "stream",
     "text": [
      "INFO flower 2022-05-26 22:42:50,759 | server.py:114 | fit progress: (4, 0.6937116384506226, {'accuracy': 0.5}, 4591.1573112)\n",
      "DEBUG flower 2022-05-26 22:42:50,770 | server.py:157 | evaluate_round: strategy sampled 4 clients (out of 4)\n",
      "DEBUG flower 2022-05-26 22:44:52,477 | server.py:170 | evaluate_round received 4 results and 0 failures\n",
      "DEBUG flower 2022-05-26 22:44:52,479 | server.py:203 | fit_round: strategy sampled 4 clients (out of 4)\n",
      "DEBUG flower 2022-05-26 23:00:41,855 | server.py:216 | fit_round received 4 results and 0 failures\n"
     ]
    },
    {
     "name": "stdout",
     "output_type": "stream",
     "text": [
      "20/20 [==============================] - 94s 5s/step - loss: 0.8202 - binary_accuracy: 0.5375\n"
     ]
    },
    {
     "name": "stderr",
     "output_type": "stream",
     "text": [
      "INFO flower 2022-05-26 23:02:24,049 | server.py:114 | fit progress: (5, 0.8201594352722168, {'accuracy': 0.5375000238418579}, 5764.2516219)\n",
      "DEBUG flower 2022-05-26 23:02:24,049 | server.py:157 | evaluate_round: strategy sampled 4 clients (out of 4)\n",
      "DEBUG flower 2022-05-26 23:04:26,705 | server.py:170 | evaluate_round received 4 results and 0 failures\n",
      "DEBUG flower 2022-05-26 23:04:26,706 | server.py:203 | fit_round: strategy sampled 4 clients (out of 4)\n",
      "DEBUG flower 2022-05-26 23:20:18,964 | server.py:216 | fit_round received 4 results and 0 failures\n"
     ]
    },
    {
     "name": "stdout",
     "output_type": "stream",
     "text": [
      "20/20 [==============================] - 94s 5s/step - loss: 0.6899 - binary_accuracy: 0.5375\n"
     ]
    },
    {
     "name": "stderr",
     "output_type": "stream",
     "text": [
      "INFO flower 2022-05-26 23:22:00,797 | server.py:114 | fit progress: (6, 0.6899438500404358, {'accuracy': 0.5375000238418579}, 6940.8671484999995)\n",
      "DEBUG flower 2022-05-26 23:22:00,798 | server.py:157 | evaluate_round: strategy sampled 4 clients (out of 4)\n",
      "DEBUG flower 2022-05-26 23:24:03,354 | server.py:170 | evaluate_round received 4 results and 0 failures\n",
      "DEBUG flower 2022-05-26 23:24:03,355 | server.py:203 | fit_round: strategy sampled 4 clients (out of 4)\n",
      "DEBUG flower 2022-05-26 23:39:53,883 | server.py:216 | fit_round received 4 results and 0 failures\n"
     ]
    },
    {
     "name": "stdout",
     "output_type": "stream",
     "text": [
      "20/20 [==============================] - 94s 5s/step - loss: 0.6954 - binary_accuracy: 0.4875\n"
     ]
    },
    {
     "name": "stderr",
     "output_type": "stream",
     "text": [
      "INFO flower 2022-05-26 23:41:35,864 | server.py:114 | fit progress: (7, 0.69538414478302, {'accuracy': 0.48750001192092896}, 8115.8730391)\n",
      "DEBUG flower 2022-05-26 23:41:35,864 | server.py:157 | evaluate_round: strategy sampled 4 clients (out of 4)\n",
      "DEBUG flower 2022-05-26 23:43:37,917 | server.py:170 | evaluate_round received 4 results and 0 failures\n",
      "DEBUG flower 2022-05-26 23:43:37,918 | server.py:203 | fit_round: strategy sampled 4 clients (out of 4)\n",
      "DEBUG flower 2022-05-26 23:59:26,802 | server.py:216 | fit_round received 4 results and 0 failures\n"
     ]
    },
    {
     "name": "stdout",
     "output_type": "stream",
     "text": [
      "20/20 [==============================] - 94s 5s/step - loss: 0.6910 - binary_accuracy: 0.5250\n"
     ]
    },
    {
     "name": "stderr",
     "output_type": "stream",
     "text": [
      "INFO flower 2022-05-27 00:01:08,578 | server.py:114 | fit progress: (8, 0.6910039186477661, {'accuracy': 0.5249999761581421}, 9288.4633969)\n",
      "DEBUG flower 2022-05-27 00:01:08,578 | server.py:157 | evaluate_round: strategy sampled 4 clients (out of 4)\n",
      "DEBUG flower 2022-05-27 00:03:11,085 | server.py:170 | evaluate_round received 4 results and 0 failures\n",
      "DEBUG flower 2022-05-27 00:03:11,085 | server.py:203 | fit_round: strategy sampled 4 clients (out of 4)\n",
      "DEBUG flower 2022-05-27 00:18:59,224 | server.py:216 | fit_round received 4 results and 0 failures\n"
     ]
    },
    {
     "name": "stdout",
     "output_type": "stream",
     "text": [
      "20/20 [==============================] - 94s 5s/step - loss: 0.6887 - binary_accuracy: 0.5250\n"
     ]
    },
    {
     "name": "stderr",
     "output_type": "stream",
     "text": [
      "INFO flower 2022-05-27 00:20:40,946 | server.py:114 | fit progress: (9, 0.6886682510375977, {'accuracy': 0.5249999761581421}, 10460.689007300001)\n",
      "DEBUG flower 2022-05-27 00:20:40,946 | server.py:157 | evaluate_round: strategy sampled 4 clients (out of 4)\n",
      "DEBUG flower 2022-05-27 00:22:43,184 | server.py:170 | evaluate_round received 4 results and 0 failures\n",
      "DEBUG flower 2022-05-27 00:22:43,184 | server.py:203 | fit_round: strategy sampled 4 clients (out of 4)\n",
      "DEBUG flower 2022-05-27 00:38:25,322 | server.py:216 | fit_round received 4 results and 0 failures\n"
     ]
    },
    {
     "name": "stdout",
     "output_type": "stream",
     "text": [
      "20/20 [==============================] - 94s 5s/step - loss: 0.6898 - binary_accuracy: 0.5375\n"
     ]
    },
    {
     "name": "stderr",
     "output_type": "stream",
     "text": [
      "INFO flower 2022-05-27 00:40:07,038 | server.py:114 | fit progress: (10, 0.6898452043533325, {'accuracy': 0.5375000238418579}, 11626.7289891)\n",
      "DEBUG flower 2022-05-27 00:40:07,044 | server.py:157 | evaluate_round: strategy sampled 4 clients (out of 4)\n",
      "DEBUG flower 2022-05-27 00:42:09,015 | server.py:170 | evaluate_round received 4 results and 0 failures\n",
      "INFO flower 2022-05-27 00:42:09,016 | server.py:138 | FL finished in 11748.658392500001\n",
      "INFO flower 2022-05-27 00:42:09,040 | app.py:178 | app_fit: losses_distributed [(1, 0.6986111431167676), (2, 0.6910489579805961), (3, 0.6897228480531619), (4, 0.6940656080842018), (5, 0.7735212290516267), (6, 0.7117360394734603), (7, 0.7054867377647986), (8, 0.7096480910594647), (9, 0.7104842949372071), (10, 0.7031079427554057)]\n",
      "INFO flower 2022-05-27 00:42:09,040 | app.py:179 | app_fit: metrics_distributed {}\n",
      "INFO flower 2022-05-27 00:42:09,041 | app.py:180 | app_fit: losses_centralized [(0, 1.9725606441497803), (1, 0.6917809247970581), (2, 0.6940613985061646), (3, 0.702825665473938), (4, 0.6937116384506226), (5, 0.8201594352722168), (6, 0.6899438500404358), (7, 0.69538414478302), (8, 0.6910039186477661), (9, 0.6886682510375977), (10, 0.6898452043533325)]\n",
      "INFO flower 2022-05-27 00:42:09,042 | app.py:181 | app_fit: metrics_centralized {'accuracy': [(0, 0.5249999761581421), (1, 0.5249999761581421), (2, 0.4625000059604645), (3, 0.48750001192092896), (4, 0.5), (5, 0.5375000238418579), (6, 0.5375000238418579), (7, 0.48750001192092896), (8, 0.5249999761581421), (9, 0.5249999761581421), (10, 0.5375000238418579)]}\n"
     ]
    },
    {
     "data": {
      "text/plain": [
       "History (loss, distributed):\n",
       "\tround 1: 0.6986111431167676\n",
       "\tround 2: 0.6910489579805961\n",
       "\tround 3: 0.6897228480531619\n",
       "\tround 4: 0.6940656080842018\n",
       "\tround 5: 0.7735212290516267\n",
       "\tround 6: 0.7117360394734603\n",
       "\tround 7: 0.7054867377647986\n",
       "\tround 8: 0.7096480910594647\n",
       "\tround 9: 0.7104842949372071\n",
       "\tround 10: 0.7031079427554057\n",
       "History (loss, centralized):\n",
       "\tround 0: 1.9725606441497803\n",
       "\tround 1: 0.6917809247970581\n",
       "\tround 2: 0.6940613985061646\n",
       "\tround 3: 0.702825665473938\n",
       "\tround 4: 0.6937116384506226\n",
       "\tround 5: 0.8201594352722168\n",
       "\tround 6: 0.6899438500404358\n",
       "\tround 7: 0.69538414478302\n",
       "\tround 8: 0.6910039186477661\n",
       "\tround 9: 0.6886682510375977\n",
       "\tround 10: 0.6898452043533325\n",
       "History (metrics, centralized):\n",
       "{'accuracy': [(0, 0.5249999761581421), (1, 0.5249999761581421), (2, 0.4625000059604645), (3, 0.48750001192092896), (4, 0.5), (5, 0.5375000238418579), (6, 0.5375000238418579), (7, 0.48750001192092896), (8, 0.5249999761581421), (9, 0.5249999761581421), (10, 0.5375000238418579)]}"
      ]
     },
     "execution_count": 7,
     "metadata": {},
     "output_type": "execute_result"
    }
   ],
   "source": [
    "fl.server.start_server(config={\"num_rounds\": 10}, strategy=strategy)"
   ]
  },
  {
   "cell_type": "code",
   "execution_count": 1,
   "id": "258f0047",
   "metadata": {},
   "outputs": [],
   "source": [
    "import matplotlib.pyplot as plt"
   ]
  },
  {
   "cell_type": "code",
   "execution_count": 2,
   "id": "e0591921",
   "metadata": {},
   "outputs": [],
   "source": [
    "loss_centralized = [1.9725606441497803, 0.6917809247970581, 0.6940613985061646, 0.702825665473938, 0.6937116384506226, 0.8201594352722168, 0.6899438500404358, 0.69538414478302, 0.6910039186477661, 0.6886682510375977, 0.6898452043533325]"
   ]
  },
  {
   "cell_type": "code",
   "execution_count": null,
   "id": "3adf0e77",
   "metadata": {},
   "outputs": [],
   "source": []
  }
 ],
 "metadata": {
  "interpreter": {
   "hash": "77df1398f74ffb58d8ff0594f502c8c260523194fbae49936cfdcd47e90e9c31"
  },
  "kernelspec": {
   "display_name": "Python 3 (ipykernel)",
   "language": "python",
   "name": "python3"
  },
  "language_info": {
   "codemirror_mode": {
    "name": "ipython",
    "version": 3
   },
   "file_extension": ".py",
   "mimetype": "text/x-python",
   "name": "python",
   "nbconvert_exporter": "python",
   "pygments_lexer": "ipython3",
   "version": "3.8.12"
  }
 },
 "nbformat": 4,
 "nbformat_minor": 5
}
